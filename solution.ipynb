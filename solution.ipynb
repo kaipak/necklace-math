{
 "cells": [
  {
   "cell_type": "markdown",
   "metadata": {},
   "source": [
    "*MATH QUIZ: If each of the 6 strands can be worn alone or in any combination, plus the extender can be used or not for 2 length options for each combo, how many different ways can your lady rock this necklace? Oh, and I forgot to mention - the longer strands can also be doubled to make a double-strand short necklace.*"
   ]
  },
  {
   "cell_type": "markdown",
   "metadata": {},
   "source": [
    "### Solution\n",
    "\n",
    "I see four longer strands in the picture so I will count those as essentially 8 separate necklaces. That gives a total of 10 separate necklaces. I will assume the extender can be used for only the entire necklace combo together so that will double the number of combinations we have possible.\n",
    "\n",
    "For 1 necklace, we obviously have ten different ways you can wear the necklace. Since order doesn't matter in this case, we need to look at combinations and not permutations. For 2 necklaces, there are a total of,\n",
    "\n",
    "$$\n",
    "\\frac{10!}{(10-2)!2!} = {10 \\choose 2} =  45\n",
    "$$\n",
    " \n",
    "possible combinations. So you just need to sum up all the combinations possible. i.e., you can wear 1, 2, 3... necklace combinations:\n",
    "\n",
    "$$\n",
    "{10 \\choose 1} + {10 \\choose 2} +...+ {10 \\choose 6}\n",
    "$$\n",
    "\n",
    "Although there 10 options of necklaces, since 8 of the choices are in actuality 4 physical necklaces (these were the doubled up ones), you can in pick a total of 6 necklaces. Below is Python code to solve the computation. I get a total of 1694 combinations. "
   ]
  },
  {
   "cell_type": "code",
   "execution_count": 14,
   "metadata": {},
   "outputs": [
    {
     "name": "stdout",
     "output_type": "stream",
     "text": [
      "1694.0\n"
     ]
    }
   ],
   "source": [
    "from scipy.special import comb\n",
    "\n",
    "sum = 0\n",
    "for i in range(1, 7):\n",
    "    sum += comb(10, i)\n",
    "    \n",
    "print(sum * 2)"
   ]
  },
  {
   "cell_type": "code",
   "execution_count": null,
   "metadata": {},
   "outputs": [],
   "source": []
  }
 ],
 "metadata": {
  "kernelspec": {
   "display_name": "Python 3",
   "language": "python",
   "name": "python3"
  },
  "language_info": {
   "codemirror_mode": {
    "name": "ipython",
    "version": 3
   },
   "file_extension": ".py",
   "mimetype": "text/x-python",
   "name": "python",
   "nbconvert_exporter": "python",
   "pygments_lexer": "ipython3",
   "version": "3.6.5"
  }
 },
 "nbformat": 4,
 "nbformat_minor": 2
}
